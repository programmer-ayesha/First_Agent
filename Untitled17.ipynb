{
  "nbformat": 4,
  "nbformat_minor": 0,
  "metadata": {
    "colab": {
      "provenance": [],
      "authorship_tag": "ABX9TyNbkpduHw32WnqMezs9C9Hl",
      "include_colab_link": true
    },
    "kernelspec": {
      "name": "python3",
      "display_name": "Python 3"
    },
    "language_info": {
      "name": "python"
    }
  },
  "cells": [
    {
      "cell_type": "markdown",
      "metadata": {
        "id": "view-in-github",
        "colab_type": "text"
      },
      "source": [
        "<a href=\"https://colab.research.google.com/github/programmer-ayesha/First_Agent/blob/main/Untitled17.ipynb\" target=\"_parent\"><img src=\"https://colab.research.google.com/assets/colab-badge.svg\" alt=\"Open In Colab\"/></a>"
      ]
    },
    {
      "cell_type": "code",
      "execution_count": 6,
      "metadata": {
        "id": "A8pWDH5zyvsl"
      },
      "outputs": [],
      "source": [
        "!pip install -Uq openai_agents \"openai_agents[litellm]\""
      ]
    },
    {
      "cell_type": "code",
      "source": [
        "import nest_asyncio\n",
        "nest_asyncio.apply()"
      ],
      "metadata": {
        "id": "IUautDfv-WpM"
      },
      "execution_count": 7,
      "outputs": []
    },
    {
      "cell_type": "code",
      "source": [
        "# ✅ Install OpenAI Agents SDK with LiteLLM support\n",
        "!pip install -Uq openai_agents \"openai_agents[litellm]\"\n",
        "\n",
        "# ✅ Apply async support for Colab\n",
        "import nest_asyncio\n",
        "nest_asyncio.apply()\n",
        "\n",
        "# ✅ Import main classes from the SDK\n",
        "from agents import Agent, Runner, set_tracing_disabled\n",
        "from agents.extensions.models.litellm_model import LitellmModel\n",
        "from google.colab import userdata\n",
        "\n",
        "# ✅ Disable tracing (for clean output)\n",
        "set_tracing_disabled(disabled=True)\n",
        "\n",
        "# ✅ Define the Gemini model\n",
        "Model = \"gemini/gemini-2.0-flash\"\n",
        "GEMINI_API_KEY = userdata.get('GEMINI_API_KEY')  # Add this key in Colab secret storage\n",
        "\n",
        "# ✅ Create the Main Agent\n",
        "main_agent = Agent(\n",
        "    name=\"PlatinumAdAgent\",\n",
        "    instructions=\"\"\"\n",
        "    You are a real estate ad assistant for Platinum Real Estate & Builders.\n",
        "    Your job is to understand user instructions and guide ad generation.\n",
        "    Do not generate output directly. Just acknowledge and wait for tools.\n",
        "    \"\"\",\n",
        "    model=LitellmModel(\n",
        "        model=Model,\n",
        "        api_key=GEMINI_API_KEY\n",
        "    )\n",
        ")\n",
        "\n",
        "# ✅ Test prompt for initial setup\n",
        "result = Runner.run_sync(main_agent, \"I want to create an ad for a 5 marla house in Bahria Town.\")\n",
        "print(result.final_output)\n"
      ],
      "metadata": {
        "colab": {
          "base_uri": "https://localhost:8080/"
        },
        "id": "l-mEdCVTzm2v",
        "outputId": "607069e5-71b2-47b6-a2d0-d465b2140313"
      },
      "execution_count": 10,
      "outputs": [
        {
          "output_type": "stream",
          "name": "stdout",
          "text": [
            "Okay, I can help you with that. To create an effective ad for a 5 Marla house in Bahria Town, I need some more information. Let's start with the basics:\n",
            "\n",
            "1.  **Which phase of Bahria Town is the house located in?** (e.g., Bahria Town Lahore Sector C, Bahria Town Rawalpindi Phase 8, etc.)\n",
            "2.  **What is the asking price for the house?**\n",
            "3.  **What are the key features of the house?** (e.g., number of bedrooms, bathrooms, is it newly constructed, renovated, etc.)\n",
            "4.  **Who is your target audience?** (e.g., families, young professionals, investors)\n",
            "5.  **Do you have any specific details you want to highlight?** (e.g., corner plot, park facing, close to amenities like schools or hospitals)\n",
            "6.  **Do you have any photos or videos of the house?**\n",
            "\n",
            "Once I have this information, I can start guiding the ad generation process.\n",
            "\n"
          ]
        }
      ]
    }
  ]
}